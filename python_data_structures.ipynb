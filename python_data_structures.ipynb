{
 "cells": [
  {
   "cell_type": "code",
   "execution_count": 1,
   "id": "c8ad7954",
   "metadata": {},
   "outputs": [
    {
     "data": {
      "text/plain": [
       "int"
      ]
     },
     "execution_count": 1,
     "metadata": {},
     "output_type": "execute_result"
    }
   ],
   "source": [
    "x = 46\n",
    "type(x)"
   ]
  },
  {
   "cell_type": "code",
   "execution_count": 2,
   "id": "936a6290",
   "metadata": {},
   "outputs": [
    {
     "data": {
      "text/plain": [
       "complex"
      ]
     },
     "execution_count": 2,
     "metadata": {},
     "output_type": "execute_result"
    }
   ],
   "source": [
    "y = 2j + 1\n",
    "type(y)"
   ]
  },
  {
   "cell_type": "code",
   "execution_count": 3,
   "id": "880e9f62",
   "metadata": {},
   "outputs": [
    {
     "data": {
      "text/plain": [
       "False"
      ]
     },
     "execution_count": 3,
     "metadata": {},
     "output_type": "execute_result"
    }
   ],
   "source": [
    "2==7"
   ]
  },
  {
   "cell_type": "code",
   "execution_count": 4,
   "id": "d98bc4cf",
   "metadata": {},
   "outputs": [
    {
     "data": {
      "text/plain": [
       "125"
      ]
     },
     "execution_count": 4,
     "metadata": {},
     "output_type": "execute_result"
    }
   ],
   "source": [
    "5**3"
   ]
  },
  {
   "cell_type": "code",
   "execution_count": 5,
   "id": "0479bbea",
   "metadata": {},
   "outputs": [
    {
     "data": {
      "text/plain": [
       "float"
      ]
     },
     "execution_count": 5,
     "metadata": {},
     "output_type": "execute_result"
    }
   ],
   "source": [
    "#Tip değiştirme\n",
    "a = 10.3\n",
    "type(a)"
   ]
  },
  {
   "cell_type": "code",
   "execution_count": 6,
   "id": "2cd4cd3c",
   "metadata": {},
   "outputs": [
    {
     "data": {
      "text/plain": [
       "10"
      ]
     },
     "execution_count": 6,
     "metadata": {},
     "output_type": "execute_result"
    }
   ],
   "source": [
    "int(a)\n",
    "#tip int oldu ama atama yapılmadı çalıştıktan sonra silinir"
   ]
  },
  {
   "cell_type": "code",
   "execution_count": 7,
   "id": "6ccf1f8d",
   "metadata": {},
   "outputs": [
    {
     "data": {
      "text/plain": [
       "float"
      ]
     },
     "execution_count": 7,
     "metadata": {},
     "output_type": "execute_result"
    }
   ],
   "source": [
    "type(a)"
   ]
  },
  {
   "cell_type": "code",
   "execution_count": 8,
   "id": "5e2aed30",
   "metadata": {},
   "outputs": [
    {
     "data": {
      "text/plain": [
       "int"
      ]
     },
     "execution_count": 8,
     "metadata": {},
     "output_type": "execute_result"
    }
   ],
   "source": [
    "a = int(a)\n",
    "type(a)\n",
    "#atama yapılır ve tip değişir a flot sayıdan inte çevrildi"
   ]
  },
  {
   "cell_type": "code",
   "execution_count": 9,
   "id": "b1d7bc04",
   "metadata": {},
   "outputs": [
    {
     "data": {
      "text/plain": [
       "' çok satırlı\\nkarakter dizisi oluşturmak için \\n3 tane tek veya çift tırnağın arasına\\nyazılır ve hepsi bir karakter dizisi olarak görünür'"
      ]
     },
     "execution_count": 9,
     "metadata": {},
     "output_type": "execute_result"
    }
   ],
   "source": [
    "long_str = \"\"\" çok satırlı\n",
    "karakter dizisi oluşturmak için \n",
    "3 tane tek veya çift tırnağın arasına\n",
    "yazılır ve hepsi bir karakter dizisi olarak görünür\"\"\"\n",
    "\n",
    "long_str"
   ]
  },
  {
   "cell_type": "code",
   "execution_count": 10,
   "id": "0ee9b7df",
   "metadata": {},
   "outputs": [
    {
     "data": {
      "text/plain": [
       "'srkk io'"
      ]
     },
     "execution_count": 10,
     "metadata": {},
     "output_type": "execute_result"
    }
   ],
   "source": [
    "long_str[5:33:4]\n",
    "#5. indexten başla 33. indexe kadar git(33 hariç) 4 er 4er atla"
   ]
  },
  {
   "cell_type": "code",
   "execution_count": 11,
   "id": "0303f15f",
   "metadata": {},
   "outputs": [],
   "source": [
    "#bir fonksiyon class yapısı içerisinde tanımlı ise buna metod denir. değil ise fonksiyondur bağımsızdır"
   ]
  },
  {
   "cell_type": "code",
   "execution_count": 12,
   "id": "1662ae84",
   "metadata": {},
   "outputs": [
    {
     "data": {
      "text/plain": [
       "'Hello Ai Era'"
      ]
     },
     "execution_count": 12,
     "metadata": {},
     "output_type": "execute_result"
    }
   ],
   "source": [
    "#replace() ile karakter değişimi sağlanır\n",
    "hi = \"Hello AI Era\"\n",
    "hi.replace(\"I\",\"i\") #virgülden den önceki karakteri sonraki ile değiştirir"
   ]
  },
  {
   "cell_type": "code",
   "execution_count": 13,
   "id": "427a1998",
   "metadata": {},
   "outputs": [
    {
     "data": {
      "text/plain": [
       "['Hello', 'AI', 'Era']"
      ]
     },
     "execution_count": 13,
     "metadata": {},
     "output_type": "execute_result"
    }
   ],
   "source": [
    "#split() metotu bölme işleminde kullanılır\n",
    "\"Hello AI Era\".split() # ön tanımlı değeri boşluk, belirtilir ise istenilen ifadeye göre böler"
   ]
  },
  {
   "cell_type": "code",
   "execution_count": 14,
   "id": "6b1c0294",
   "metadata": {},
   "outputs": [
    {
     "data": {
      "text/plain": [
       "'fofoffoff'"
      ]
     },
     "execution_count": 14,
     "metadata": {},
     "output_type": "execute_result"
    }
   ],
   "source": [
    "#strip() kırpar\n",
    "\"ofofoffoff\".strip(\"o\")"
   ]
  },
  {
   "cell_type": "code",
   "execution_count": 15,
   "id": "24c0ca64",
   "metadata": {},
   "outputs": [
    {
     "data": {
      "text/plain": [
       "'Adsafsa'"
      ]
     },
     "execution_count": 15,
     "metadata": {},
     "output_type": "execute_result"
    }
   ],
   "source": [
    "#capitalize() ilk harfi büyük yazar\n",
    "\"adsafsa\".capitalize()"
   ]
  },
  {
   "cell_type": "code",
   "execution_count": 16,
   "id": "c7b2f64b",
   "metadata": {},
   "outputs": [
    {
     "data": {
      "text/plain": [
       "list"
      ]
     },
     "execution_count": 16,
     "metadata": {},
     "output_type": "execute_result"
    }
   ],
   "source": [
    "# list[]; değiştirilebilir, sıralı(index işlemleri yapılabilir) ve kapsayıcı yapılardır\n",
    "liste = [56,7.7,\"ali\",True,[\"a\",1,2]]\n",
    "type(liste)"
   ]
  },
  {
   "cell_type": "code",
   "execution_count": 17,
   "id": "811a6565",
   "metadata": {},
   "outputs": [
    {
     "data": {
      "text/plain": [
       "['a', 1, 2]"
      ]
     },
     "execution_count": 17,
     "metadata": {},
     "output_type": "execute_result"
    }
   ],
   "source": [
    "liste[4] #4. indexdeki elemana eriş"
   ]
  },
  {
   "cell_type": "code",
   "execution_count": 18,
   "id": "52c77088",
   "metadata": {},
   "outputs": [
    {
     "data": {
      "text/plain": [
       "1"
      ]
     },
     "execution_count": 18,
     "metadata": {},
     "output_type": "execute_result"
    }
   ],
   "source": [
    "liste[4][1] #4. indexin 1. indexdeki elamanına erişim"
   ]
  },
  {
   "cell_type": "code",
   "execution_count": 19,
   "id": "6627a03c",
   "metadata": {},
   "outputs": [
    {
     "data": {
      "text/plain": [
       "[56, 7.7, 'ayşe', True, ['a', 1, 2]]"
      ]
     },
     "execution_count": 19,
     "metadata": {},
     "output_type": "execute_result"
    }
   ],
   "source": [
    "liste[2] = \"ayşe\" #eleman değiştirme\n",
    "liste"
   ]
  },
  {
   "cell_type": "code",
   "execution_count": 20,
   "id": "d728894d",
   "metadata": {},
   "outputs": [
    {
     "data": {
      "text/plain": [
       "['__add__',\n",
       " '__class__',\n",
       " '__class_getitem__',\n",
       " '__contains__',\n",
       " '__delattr__',\n",
       " '__delitem__',\n",
       " '__dir__',\n",
       " '__doc__',\n",
       " '__eq__',\n",
       " '__format__',\n",
       " '__ge__',\n",
       " '__getattribute__',\n",
       " '__getitem__',\n",
       " '__gt__',\n",
       " '__hash__',\n",
       " '__iadd__',\n",
       " '__imul__',\n",
       " '__init__',\n",
       " '__init_subclass__',\n",
       " '__iter__',\n",
       " '__le__',\n",
       " '__len__',\n",
       " '__lt__',\n",
       " '__mul__',\n",
       " '__ne__',\n",
       " '__new__',\n",
       " '__reduce__',\n",
       " '__reduce_ex__',\n",
       " '__repr__',\n",
       " '__reversed__',\n",
       " '__rmul__',\n",
       " '__setattr__',\n",
       " '__setitem__',\n",
       " '__sizeof__',\n",
       " '__str__',\n",
       " '__subclasshook__',\n",
       " 'append',\n",
       " 'clear',\n",
       " 'copy',\n",
       " 'count',\n",
       " 'extend',\n",
       " 'index',\n",
       " 'insert',\n",
       " 'pop',\n",
       " 'remove',\n",
       " 'reverse',\n",
       " 'sort']"
      ]
     },
     "execution_count": 20,
     "metadata": {},
     "output_type": "execute_result"
    }
   ],
   "source": [
    "dir(liste) #kullanılabilecek metotları listeler"
   ]
  },
  {
   "cell_type": "code",
   "execution_count": 21,
   "id": "1d7a3655",
   "metadata": {},
   "outputs": [
    {
     "data": {
      "text/plain": [
       "[56, 7.7, 'ayşe', True, ['a', 1, 2], 100]"
      ]
     },
     "execution_count": 21,
     "metadata": {},
     "output_type": "execute_result"
    }
   ],
   "source": [
    "#append() eleman ekler\n",
    "liste.append(100)\n",
    "liste"
   ]
  },
  {
   "cell_type": "code",
   "execution_count": 22,
   "id": "970d184c",
   "metadata": {},
   "outputs": [
    {
     "data": {
      "text/plain": [
       "[56, 7.7, True, ['a', 1, 2], 100]"
      ]
     },
     "execution_count": 22,
     "metadata": {},
     "output_type": "execute_result"
    }
   ],
   "source": [
    "#pop() indexe göre eleman silme işlemi yapar\n",
    "liste.pop(2)\n",
    "liste"
   ]
  },
  {
   "cell_type": "code",
   "execution_count": 23,
   "id": "98da2fd0",
   "metadata": {},
   "outputs": [
    {
     "data": {
      "text/plain": [
       "[56, 7.7, 'aslı', True, ['a', 1, 2], 100]"
      ]
     },
     "execution_count": 23,
     "metadata": {},
     "output_type": "execute_result"
    }
   ],
   "source": [
    "#insert indexe göre eleman ekleme işlemi yapar\n",
    "liste.insert(2,\"aslı\")\n",
    "liste"
   ]
  },
  {
   "cell_type": "code",
   "execution_count": 24,
   "id": "656a9028",
   "metadata": {},
   "outputs": [
    {
     "data": {
      "text/plain": [
       "{'REG': 'Regression',\n",
       " 'LOG': 'Logistic Regression',\n",
       " 'CART': 'Classification and Reg'}"
      ]
     },
     "execution_count": 24,
     "metadata": {},
     "output_type": "execute_result"
    }
   ],
   "source": [
    "#sözlül{} dictonary; değiştirilebilir, sırasız(3.7 den sonra sıralı), kapsayıcı\n",
    "#key-value \n",
    "dict = {\"REG\": \"Regression\",\n",
    "              \"LOG\": \"Logistic Regression\",\n",
    "              \"CART\": \"Classification and Reg\"}\n",
    "dict"
   ]
  },
  {
   "cell_type": "code",
   "execution_count": 25,
   "id": "88212b3d",
   "metadata": {},
   "outputs": [
    {
     "data": {
      "text/plain": [
       "'Regression'"
      ]
     },
     "execution_count": 25,
     "metadata": {},
     "output_type": "execute_result"
    }
   ],
   "source": [
    "dict[\"REG\"] # value değerine ulaşma"
   ]
  },
  {
   "cell_type": "code",
   "execution_count": 26,
   "id": "6d22523e",
   "metadata": {},
   "outputs": [
    {
     "data": {
      "text/plain": [
       "{'REG': ['RMSE', 10], 'LOG': ['MSE', 20], 'CART': ['SSE', 30]}"
      ]
     },
     "execution_count": 26,
     "metadata": {},
     "output_type": "execute_result"
    }
   ],
   "source": [
    "dictionary = {\"REG\": [\"RMSE\", 10],\n",
    "              \"LOG\": [\"MSE\", 20],\n",
    "              \"CART\": [\"SSE\", 30]}\n",
    "#value tarafında liste olabilir\n",
    "dictionary"
   ]
  },
  {
   "cell_type": "code",
   "execution_count": 27,
   "id": "4e112b1d",
   "metadata": {},
   "outputs": [
    {
     "data": {
      "text/plain": [
       "30"
      ]
     },
     "execution_count": 27,
     "metadata": {},
     "output_type": "execute_result"
    }
   ],
   "source": [
    "dictionary[\"CART\"][1]"
   ]
  },
  {
   "cell_type": "code",
   "execution_count": 28,
   "id": "8f8037af",
   "metadata": {},
   "outputs": [
    {
     "data": {
      "text/plain": [
       "False"
      ]
     },
     "execution_count": 28,
     "metadata": {},
     "output_type": "execute_result"
    }
   ],
   "source": [
    "\"YSA\" in dictionary\n",
    "#key sorgulama "
   ]
  },
  {
   "cell_type": "code",
   "execution_count": 29,
   "id": "dab38888",
   "metadata": {},
   "outputs": [
    {
     "data": {
      "text/plain": [
       "True"
      ]
     },
     "execution_count": 29,
     "metadata": {},
     "output_type": "execute_result"
    }
   ],
   "source": [
    "\"REG\" in dictionary"
   ]
  },
  {
   "cell_type": "code",
   "execution_count": 30,
   "id": "a5dae41b",
   "metadata": {},
   "outputs": [
    {
     "data": {
      "text/plain": [
       "{'REG': 'Regression',\n",
       " 'LOG': 'Logistic Regression',\n",
       " 'CART': 'Classification and Reg'}"
      ]
     },
     "execution_count": 30,
     "metadata": {},
     "output_type": "execute_result"
    }
   ],
   "source": [
    "#value değiştirme\n",
    "dict"
   ]
  },
  {
   "cell_type": "code",
   "execution_count": 31,
   "id": "c994b093",
   "metadata": {},
   "outputs": [
    {
     "data": {
      "text/plain": [
       "{'REG': ['YSA', 10],\n",
       " 'LOG': 'Logistic Regression',\n",
       " 'CART': 'Classification and Reg'}"
      ]
     },
     "execution_count": 31,
     "metadata": {},
     "output_type": "execute_result"
    }
   ],
   "source": [
    "dict[\"REG\"] = [\"YSA\", 10]\n",
    "dict #değişti"
   ]
  },
  {
   "cell_type": "code",
   "execution_count": 32,
   "id": "882f2f38",
   "metadata": {},
   "outputs": [
    {
     "data": {
      "text/plain": [
       "dict_keys(['REG', 'LOG', 'CART'])"
      ]
     },
     "execution_count": 32,
     "metadata": {},
     "output_type": "execute_result"
    }
   ],
   "source": [
    "dict.keys()# Tüm Key'lere Erişmek"
   ]
  },
  {
   "cell_type": "code",
   "execution_count": 33,
   "id": "ec937cdc",
   "metadata": {},
   "outputs": [
    {
     "data": {
      "text/plain": [
       "dict_values([['YSA', 10], 'Logistic Regression', 'Classification and Reg'])"
      ]
     },
     "execution_count": 33,
     "metadata": {},
     "output_type": "execute_result"
    }
   ],
   "source": [
    "dict.values()# Tüm Value'lara Erişmek"
   ]
  },
  {
   "cell_type": "code",
   "execution_count": 34,
   "id": "7f527574",
   "metadata": {},
   "outputs": [
    {
     "data": {
      "text/plain": [
       "dict_items([('REG', ['YSA', 10]), ('LOG', 'Logistic Regression'), ('CART', 'Classification and Reg')])"
      ]
     },
     "execution_count": 34,
     "metadata": {},
     "output_type": "execute_result"
    }
   ],
   "source": [
    "# Tüm Çiftleri Tuple Halinde Listeye Çevirme\n",
    "dict.items()"
   ]
  },
  {
   "cell_type": "code",
   "execution_count": 35,
   "id": "10fba32a",
   "metadata": {},
   "outputs": [
    {
     "data": {
      "text/plain": [
       "{'REG': ['RMSE', 10], 'LOG': ['MSE', 20], 'CART': ['SSE', 30]}"
      ]
     },
     "execution_count": 35,
     "metadata": {},
     "output_type": "execute_result"
    }
   ],
   "source": [
    "dictionary"
   ]
  },
  {
   "cell_type": "code",
   "execution_count": 36,
   "id": "2b3e0653",
   "metadata": {},
   "outputs": [
    {
     "data": {
      "text/plain": [
       "{'REG': 11, 'LOG': ['MSE', 20], 'CART': ['SSE', 30]}"
      ]
     },
     "execution_count": 36,
     "metadata": {},
     "output_type": "execute_result"
    }
   ],
   "source": [
    "# Key-Value Değerini Güncellemek\n",
    "dictionary.update({\"REG\": 11})\n",
    "dictionary"
   ]
  },
  {
   "cell_type": "code",
   "execution_count": 37,
   "id": "ae61f037",
   "metadata": {},
   "outputs": [
    {
     "data": {
      "text/plain": [
       "{'REG': 11, 'LOG': ['MSE', 20], 'CART': ['SSE', 30], 'RF': 10}"
      ]
     },
     "execution_count": 37,
     "metadata": {},
     "output_type": "execute_result"
    }
   ],
   "source": [
    "# Yeni Key-Value Eklemek\n",
    "dictionary.update({\"RF\": 10})\n",
    "dictionary # update ise varsa günceller yoksa ekler"
   ]
  },
  {
   "cell_type": "code",
   "execution_count": 38,
   "id": "a23d28f9",
   "metadata": {},
   "outputs": [],
   "source": [
    "#demet() tuple listelerin değişime kapalı halidir\n",
    "#değiştirilemez, sıralı, kapsayıcı"
   ]
  },
  {
   "cell_type": "code",
   "execution_count": 39,
   "id": "bff2d262",
   "metadata": {},
   "outputs": [
    {
     "data": {
      "text/plain": [
       "('john', 12, True)"
      ]
     },
     "execution_count": 39,
     "metadata": {},
     "output_type": "execute_result"
    }
   ],
   "source": [
    "t = (\"john\", 12, True)\n",
    "t"
   ]
  },
  {
   "cell_type": "code",
   "execution_count": 40,
   "id": "e26ae160",
   "metadata": {},
   "outputs": [],
   "source": [
    "#küme(set) değiştirilebilir, sırasız + eşsiz ve kapsayıcıdır hız gerektiren işlemlerde öncelikli olarak kullanılır\n",
    "#{} veya set() ile oluşturulabilir"
   ]
  },
  {
   "cell_type": "code",
   "execution_count": 41,
   "id": "c0544661",
   "metadata": {},
   "outputs": [],
   "source": [
    "set1 = set([2,3,4,5])\n",
    "set2 = set([23,3,44,5])"
   ]
  },
  {
   "cell_type": "code",
   "execution_count": 42,
   "id": "ad699421",
   "metadata": {},
   "outputs": [
    {
     "data": {
      "text/plain": [
       "{2, 4}"
      ]
     },
     "execution_count": 42,
     "metadata": {},
     "output_type": "execute_result"
    }
   ],
   "source": [
    "#difference() iki kümenin farkı, set1 de olup set2 de olmayan eleman  :\n",
    "set1.difference(set2)"
   ]
  },
  {
   "cell_type": "code",
   "execution_count": 43,
   "id": "36f4bc9a",
   "metadata": {},
   "outputs": [
    {
     "data": {
      "text/plain": [
       "{2, 4, 23, 44}"
      ]
     },
     "execution_count": 43,
     "metadata": {},
     "output_type": "execute_result"
    }
   ],
   "source": [
    "#symmetric_difference() iki kümede de birbirine göre olmayanlar, farklı değerlet\n",
    "set1.symmetric_difference(set2)"
   ]
  },
  {
   "cell_type": "code",
   "execution_count": 44,
   "id": "56899a82",
   "metadata": {},
   "outputs": [
    {
     "data": {
      "text/plain": [
       "{3, 5}"
      ]
     },
     "execution_count": 44,
     "metadata": {},
     "output_type": "execute_result"
    }
   ],
   "source": [
    "#intersection() iki kümenin kesişimi, ortak değerler\n",
    "set1.intersection(set2)"
   ]
  },
  {
   "cell_type": "code",
   "execution_count": 45,
   "id": "2ad38dde",
   "metadata": {},
   "outputs": [
    {
     "data": {
      "text/plain": [
       "{2, 3, 4, 5, 23, 44}"
      ]
     },
     "execution_count": 45,
     "metadata": {},
     "output_type": "execute_result"
    }
   ],
   "source": [
    "#union() iki kümenin birleşimi\n",
    "set1.union(set2)"
   ]
  },
  {
   "cell_type": "code",
   "execution_count": 46,
   "id": "299f0e6e",
   "metadata": {},
   "outputs": [
    {
     "data": {
      "text/plain": [
       "False"
      ]
     },
     "execution_count": 46,
     "metadata": {},
     "output_type": "execute_result"
    }
   ],
   "source": [
    "#isdisjoint() iki kümenin kesişimi boş mu\n",
    "set1.isdisjoint(set2)"
   ]
  },
  {
   "cell_type": "code",
   "execution_count": 47,
   "id": "0cb7da62",
   "metadata": {},
   "outputs": [
    {
     "data": {
      "text/plain": [
       "False"
      ]
     },
     "execution_count": 47,
     "metadata": {},
     "output_type": "execute_result"
    }
   ],
   "source": [
    "#issuperset() bir küme diğer kümeyi kapsıyor mu\n",
    "set2.issuperset(set1)"
   ]
  },
  {
   "cell_type": "code",
   "execution_count": null,
   "id": "fa4ad8c5",
   "metadata": {},
   "outputs": [],
   "source": []
  },
  {
   "cell_type": "code",
   "execution_count": null,
   "id": "4efaf832",
   "metadata": {},
   "outputs": [],
   "source": []
  }
 ],
 "metadata": {
  "kernelspec": {
   "display_name": "Python 3 (ipykernel)",
   "language": "python",
   "name": "python3"
  },
  "language_info": {
   "codemirror_mode": {
    "name": "ipython",
    "version": 3
   },
   "file_extension": ".py",
   "mimetype": "text/x-python",
   "name": "python",
   "nbconvert_exporter": "python",
   "pygments_lexer": "ipython3",
   "version": "3.9.13"
  }
 },
 "nbformat": 4,
 "nbformat_minor": 5
}
