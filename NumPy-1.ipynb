{
 "cells": [
  {
   "cell_type": "code",
   "execution_count": 38,
   "id": "00fa31c8",
   "metadata": {},
   "outputs": [],
   "source": [
    "import numpy as np\n",
    "#sabit tipte veri saklar, hızlı ve fonksiyoneldir. yüksek seviyeden işlemler yapar"
   ]
  },
  {
   "cell_type": "code",
   "execution_count": 26,
   "id": "69f9a199",
   "metadata": {},
   "outputs": [],
   "source": [
    "a = [1,13,22,4]\n",
    "b = [2,34,6,33]"
   ]
  },
  {
   "cell_type": "code",
   "execution_count": 27,
   "id": "9a4396cb",
   "metadata": {},
   "outputs": [],
   "source": [
    "ab = []\n",
    "#a ve listesindeki elemanların çarpımını ab listesine ekle işlemi, klasik python\n",
    "for i in range(0, len(a)):\n",
    "    ab.append(a[i] * b[i])"
   ]
  },
  {
   "cell_type": "code",
   "execution_count": 28,
   "id": "03d8d115",
   "metadata": {},
   "outputs": [
    {
     "data": {
      "text/plain": [
       "[2, 442, 132, 132]"
      ]
     },
     "execution_count": 28,
     "metadata": {},
     "output_type": "execute_result"
    }
   ],
   "source": [
    "ab"
   ]
  },
  {
   "cell_type": "code",
   "execution_count": 29,
   "id": "93e626f7",
   "metadata": {},
   "outputs": [
    {
     "data": {
      "text/plain": [
       "array([  2, 442, 132, 132])"
      ]
     },
     "execution_count": 29,
     "metadata": {},
     "output_type": "execute_result"
    }
   ],
   "source": [
    "#yukarıda ki işlemi numpy ile yapalım\n",
    "a = np.array([1,13,22,4]) #a listesini numpy arrayine çevirdik\n",
    "b = np.array([2,34,6,33])\n",
    "a*b # direk işlem yapma kolaylığı "
   ]
  },
  {
   "cell_type": "code",
   "execution_count": 30,
   "id": "89f7d86b",
   "metadata": {},
   "outputs": [
    {
     "data": {
      "text/plain": [
       "array([1, 2, 3, 4, 5])"
      ]
     },
     "execution_count": 30,
     "metadata": {},
     "output_type": "execute_result"
    }
   ],
   "source": [
    "#numpy array i oluşturmak (creating numpy arrays)\n",
    "a = np.array([1,2,3,4,5]) #liste üzerinden numpy arrayi oluşturuldu\n",
    "a"
   ]
  },
  {
   "cell_type": "code",
   "execution_count": 31,
   "id": "59d3e470",
   "metadata": {},
   "outputs": [
    {
     "data": {
      "text/plain": [
       "numpy.ndarray"
      ]
     },
     "execution_count": 31,
     "metadata": {},
     "output_type": "execute_result"
    }
   ],
   "source": [
    "type(a)"
   ]
  },
  {
   "cell_type": "code",
   "execution_count": 32,
   "id": "a5a36c6e",
   "metadata": {},
   "outputs": [
    {
     "data": {
      "text/plain": [
       "array([0, 0, 0, 0, 0, 0, 0])"
      ]
     },
     "execution_count": 32,
     "metadata": {},
     "output_type": "execute_result"
    }
   ],
   "source": [
    "#girilen sayı kadar sıfır değeri oluşturur\n",
    "np.zeros(7, dtype= int)"
   ]
  },
  {
   "cell_type": "code",
   "execution_count": 33,
   "id": "24806722",
   "metadata": {},
   "outputs": [
    {
     "data": {
      "text/plain": [
       "array([ 75,  90, 100,  65,  42,  13, 104,  18,  56])"
      ]
     },
     "execution_count": 33,
     "metadata": {},
     "output_type": "execute_result"
    }
   ],
   "source": [
    "np.random.randint(13,113, size= 9) #13 min 113 max sınır, size adeti verir"
   ]
  },
  {
   "cell_type": "code",
   "execution_count": 34,
   "id": "d2c81e7d",
   "metadata": {},
   "outputs": [
    {
     "data": {
      "text/plain": [
       "array([[ 2.76788403, 18.42023473, 15.98805199, 16.82586387, 18.12497878],\n",
       "       [14.48188287, 12.48132432, 15.93731312, 25.0139653 , 16.76380643]])"
      ]
     },
     "execution_count": 34,
     "metadata": {},
     "output_type": "execute_result"
    }
   ],
   "source": [
    "#belirli bir istatistiksel dağılıma göre sayı üretme \n",
    "#Üç argümanı vardır.1-Oluşturulmak istenen normal dağılımlı kitlenin ortalaması, \n",
    "#2-argüman, 3- boyut bilgisi girilir yani (ortalama, standart sapma, (x,y array))\n",
    "np.random.normal(13,5,(2,5))"
   ]
  },
  {
   "cell_type": "code",
   "execution_count": 35,
   "id": "ade7223a",
   "metadata": {},
   "outputs": [
    {
     "data": {
      "text/plain": [
       "'numpy array özellikleri\\nndim: boyut sayısı\\nshape: boyut bilgisi\\nsize: toplam eleman sayısı\\ndtype: array veri tipi\\n'"
      ]
     },
     "execution_count": 35,
     "metadata": {},
     "output_type": "execute_result"
    }
   ],
   "source": [
    "\"\"\"numpy array özellikleri\n",
    "ndim: boyut sayısı\n",
    "shape: boyut bilgisi\n",
    "size: toplam eleman sayısı\n",
    "dtype: array veri tipi\n",
    "\"\"\""
   ]
  },
  {
   "cell_type": "code",
   "execution_count": 36,
   "id": "697dc63c",
   "metadata": {},
   "outputs": [
    {
     "data": {
      "text/plain": [
       "array([ 5, 10,  3,  4,  4,  7,  2,  8,  7,  1,  3, 11])"
      ]
     },
     "execution_count": 36,
     "metadata": {},
     "output_type": "execute_result"
    }
   ],
   "source": [
    "#yeniden şekillendirme(reshaping)\n",
    "a= np.random.randint(1,13,size=12)\n",
    "a #tek boyut"
   ]
  },
  {
   "cell_type": "code",
   "execution_count": 37,
   "id": "e1b20da5",
   "metadata": {},
   "outputs": [
    {
     "data": {
      "text/plain": [
       "array([[ 5, 10,  3,  4],\n",
       "       [ 4,  7,  2,  8],\n",
       "       [ 7,  1,  3, 11]])"
      ]
     },
     "execution_count": 37,
     "metadata": {},
     "output_type": "execute_result"
    }
   ],
   "source": [
    "a.reshape(3,4) #çift boyutt"
   ]
  },
  {
   "cell_type": "code",
   "execution_count": 44,
   "id": "4f184237",
   "metadata": {},
   "outputs": [
    {
     "data": {
      "text/plain": [
       "array([[10,  2,  7,  8,  9],\n",
       "       [ 1, 19, 11,  5, 15],\n",
       "       [ 8, 23,  1, 24, 21]])"
      ]
     },
     "execution_count": 44,
     "metadata": {},
     "output_type": "execute_result"
    }
   ],
   "source": [
    "#index işlemleri\n",
    "m = np.random.randint(25,size=(3,5))\n",
    "m"
   ]
  },
  {
   "cell_type": "code",
   "execution_count": 45,
   "id": "2efbff2d",
   "metadata": {},
   "outputs": [
    {
     "data": {
      "text/plain": [
       "24"
      ]
     },
     "execution_count": 45,
     "metadata": {},
     "output_type": "execute_result"
    }
   ],
   "source": [
    "m[2,3] #virglden öncesi satır sonrası sütunları temsil eder"
   ]
  },
  {
   "cell_type": "code",
   "execution_count": 46,
   "id": "4eb0b770",
   "metadata": {},
   "outputs": [
    {
     "data": {
      "text/plain": [
       "array([[ 10,   2,   7,   8,   9],\n",
       "       [  1,  19,  11,   5,  15],\n",
       "       [  8,  23,   1, 900,  21]])"
      ]
     },
     "execution_count": 46,
     "metadata": {},
     "output_type": "execute_result"
    }
   ],
   "source": [
    "m[2,3] = 900 #atama\n",
    "m"
   ]
  },
  {
   "cell_type": "code",
   "execution_count": 47,
   "id": "34a4696c",
   "metadata": {},
   "outputs": [
    {
     "data": {
      "text/plain": [
       "array([[10,  2,  7,  8,  9],\n",
       "       [ 1, 19, 11,  5, 15],\n",
       "       [ 8, 23,  1, 13, 21]])"
      ]
     },
     "execution_count": 47,
     "metadata": {},
     "output_type": "execute_result"
    }
   ],
   "source": [
    "m[2,3] = 13.13 #numpy arrayi sabit tiptir, float değer yazınca kendi tip bilgisi olan inte çevirir değeri öyle yazar\n",
    "m"
   ]
  },
  {
   "cell_type": "code",
   "execution_count": 50,
   "id": "87603af7",
   "metadata": {},
   "outputs": [
    {
     "data": {
      "text/plain": [
       "array([[ 2,  7],\n",
       "       [19, 11]])"
      ]
     },
     "execution_count": 50,
     "metadata": {},
     "output_type": "execute_result"
    }
   ],
   "source": [
    "m[0:2 , 1:3]"
   ]
  },
  {
   "cell_type": "code",
   "execution_count": 51,
   "id": "44e1bbe0",
   "metadata": {},
   "outputs": [
    {
     "data": {
      "text/plain": [
       "array([13, 23, 33, 43, 53, 63, 73, 83, 93])"
      ]
     },
     "execution_count": 51,
     "metadata": {},
     "output_type": "execute_result"
    }
   ],
   "source": [
    "f = np.arange(13,100,10)\n",
    "f# 13 den başla 100 e kadar git 10ar 10ar arttır"
   ]
  },
  {
   "cell_type": "code",
   "execution_count": 55,
   "id": "7c557967",
   "metadata": {},
   "outputs": [
    {
     "data": {
      "text/plain": [
       "array([23, 63, 83, 93])"
      ]
     },
     "execution_count": 55,
     "metadata": {},
     "output_type": "execute_result"
    }
   ],
   "source": [
    "#fancy index \n",
    "catch = [1,5,7,8] \n",
    "f[catch] #index bigilerini teker teker yazma zahmetinden kurtarır"
   ]
  },
  {
   "cell_type": "code",
   "execution_count": 56,
   "id": "8ac7b53d",
   "metadata": {},
   "outputs": [
    {
     "data": {
      "text/plain": [
       "array([13, 23, 33, 43])"
      ]
     },
     "execution_count": 56,
     "metadata": {},
     "output_type": "execute_result"
    }
   ],
   "source": [
    "f[f<50] #koşullu seçme işlemi"
   ]
  },
  {
   "cell_type": "code",
   "execution_count": 57,
   "id": "c3879cb5",
   "metadata": {},
   "outputs": [
    {
     "data": {
      "text/plain": [
       "array([ 2.6,  4.6,  6.6,  8.6, 10.6, 12.6, 14.6, 16.6, 18.6])"
      ]
     },
     "execution_count": 57,
     "metadata": {},
     "output_type": "execute_result"
    }
   ],
   "source": [
    "f/5"
   ]
  },
  {
   "cell_type": "code",
   "execution_count": 59,
   "id": "77105fca",
   "metadata": {},
   "outputs": [
    {
     "data": {
      "text/plain": [
       "'\\nadd ekleme işlemi\\nmean ortalama işlemi\\nsum toplama işlemi\\nmin işlemi\\nmax işlemi\\nvar varyans işlemi\\n'"
      ]
     },
     "execution_count": 59,
     "metadata": {},
     "output_type": "execute_result"
    }
   ],
   "source": [
    "f = np.subtract(f,3) #çıkarma işlemi\n",
    "\"\"\"\n",
    "add ekleme işlemi\n",
    "mean ortalama işlemi\n",
    "sum toplama işlemi\n",
    "min işlemi\n",
    "max işlemi\n",
    "var varyans işlemi\n",
    "\"\"\""
   ]
  },
  {
   "cell_type": "code",
   "execution_count": 60,
   "id": "beae4911",
   "metadata": {},
   "outputs": [
    {
     "data": {
      "text/plain": [
       "array([10, 20, 30, 40, 50, 60, 70, 80, 90])"
      ]
     },
     "execution_count": 60,
     "metadata": {},
     "output_type": "execute_result"
    }
   ],
   "source": [
    "f"
   ]
  },
  {
   "cell_type": "code",
   "execution_count": 62,
   "id": "6d62d583",
   "metadata": {},
   "outputs": [
    {
     "data": {
      "text/plain": [
       "array([1.85714286, 2.71428571])"
      ]
     },
     "execution_count": 62,
     "metadata": {},
     "output_type": "execute_result"
    }
   ],
   "source": [
    "#iki bilinmeyenli denklem çözümü\n",
    "#5*x0 + x1 = 12\n",
    "#x0 + 3*x1 = 10 ör\n",
    "a = np.array([[5,1] , [1,3]]) #xo katsaıları, x1 katsayıları\n",
    "b = np.array([12,10]) #sonuçlar\n",
    "np.linalg.solve(a,b) #hesaplama"
   ]
  },
  {
   "cell_type": "code",
   "execution_count": null,
   "id": "d48eaa0d",
   "metadata": {},
   "outputs": [],
   "source": []
  }
 ],
 "metadata": {
  "kernelspec": {
   "display_name": "Python 3 (ipykernel)",
   "language": "python",
   "name": "python3"
  },
  "language_info": {
   "codemirror_mode": {
    "name": "ipython",
    "version": 3
   },
   "file_extension": ".py",
   "mimetype": "text/x-python",
   "name": "python",
   "nbconvert_exporter": "python",
   "pygments_lexer": "ipython3",
   "version": "3.9.13"
  }
 },
 "nbformat": 4,
 "nbformat_minor": 5
}
