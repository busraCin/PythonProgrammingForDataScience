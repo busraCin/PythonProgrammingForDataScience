{
 "cells": [
  {
   "cell_type": "code",
   "execution_count": 1,
   "id": "0ae094f9",
   "metadata": {},
   "outputs": [],
   "source": [
    "import numpy as np\n",
    "import pandas as pd\n",
    "import seaborn as sns\n",
    "import matplotlib.pyplot as plt"
   ]
  },
  {
   "cell_type": "code",
   "execution_count": 2,
   "id": "ae23ca50",
   "metadata": {},
   "outputs": [
    {
     "data": {
      "text/html": [
       "<div>\n",
       "<style scoped>\n",
       "    .dataframe tbody tr th:only-of-type {\n",
       "        vertical-align: middle;\n",
       "    }\n",
       "\n",
       "    .dataframe tbody tr th {\n",
       "        vertical-align: top;\n",
       "    }\n",
       "\n",
       "    .dataframe thead th {\n",
       "        text-align: right;\n",
       "    }\n",
       "</style>\n",
       "<table border=\"1\" class=\"dataframe\">\n",
       "  <thead>\n",
       "    <tr style=\"text-align: right;\">\n",
       "      <th></th>\n",
       "      <th>survived</th>\n",
       "      <th>pclass</th>\n",
       "      <th>sex</th>\n",
       "      <th>age</th>\n",
       "      <th>sibsp</th>\n",
       "      <th>parch</th>\n",
       "      <th>fare</th>\n",
       "      <th>embarked</th>\n",
       "      <th>class</th>\n",
       "      <th>who</th>\n",
       "      <th>adult_male</th>\n",
       "      <th>deck</th>\n",
       "      <th>embark_town</th>\n",
       "      <th>alive</th>\n",
       "      <th>alone</th>\n",
       "    </tr>\n",
       "  </thead>\n",
       "  <tbody>\n",
       "    <tr>\n",
       "      <th>0</th>\n",
       "      <td>0</td>\n",
       "      <td>3</td>\n",
       "      <td>male</td>\n",
       "      <td>22.0</td>\n",
       "      <td>1</td>\n",
       "      <td>0</td>\n",
       "      <td>7.2500</td>\n",
       "      <td>S</td>\n",
       "      <td>Third</td>\n",
       "      <td>man</td>\n",
       "      <td>True</td>\n",
       "      <td>NaN</td>\n",
       "      <td>Southampton</td>\n",
       "      <td>no</td>\n",
       "      <td>False</td>\n",
       "    </tr>\n",
       "    <tr>\n",
       "      <th>1</th>\n",
       "      <td>1</td>\n",
       "      <td>1</td>\n",
       "      <td>female</td>\n",
       "      <td>38.0</td>\n",
       "      <td>1</td>\n",
       "      <td>0</td>\n",
       "      <td>71.2833</td>\n",
       "      <td>C</td>\n",
       "      <td>First</td>\n",
       "      <td>woman</td>\n",
       "      <td>False</td>\n",
       "      <td>C</td>\n",
       "      <td>Cherbourg</td>\n",
       "      <td>yes</td>\n",
       "      <td>False</td>\n",
       "    </tr>\n",
       "    <tr>\n",
       "      <th>2</th>\n",
       "      <td>1</td>\n",
       "      <td>3</td>\n",
       "      <td>female</td>\n",
       "      <td>26.0</td>\n",
       "      <td>0</td>\n",
       "      <td>0</td>\n",
       "      <td>7.9250</td>\n",
       "      <td>S</td>\n",
       "      <td>Third</td>\n",
       "      <td>woman</td>\n",
       "      <td>False</td>\n",
       "      <td>NaN</td>\n",
       "      <td>Southampton</td>\n",
       "      <td>yes</td>\n",
       "      <td>True</td>\n",
       "    </tr>\n",
       "  </tbody>\n",
       "</table>\n",
       "</div>"
      ],
      "text/plain": [
       "   survived  pclass     sex   age  sibsp  parch     fare embarked  class    who  adult_male deck  embark_town alive  alone\n",
       "0         0       3    male  22.0      1      0   7.2500        S  Third    man        True  NaN  Southampton    no  False\n",
       "1         1       1  female  38.0      1      0  71.2833        C  First  woman       False    C    Cherbourg   yes  False\n",
       "2         1       3  female  26.0      0      0   7.9250        S  Third  woman       False  NaN  Southampton   yes   True"
      ]
     },
     "execution_count": 2,
     "metadata": {},
     "output_type": "execute_result"
    }
   ],
   "source": [
    "pd.set_option('display.max_columns', None)\n",
    "pd.set_option('display.width', 500)\n",
    "df = sns.load_dataset(\"titanic\")\n",
    "df.head(3)"
   ]
  },
  {
   "cell_type": "code",
   "execution_count": 3,
   "id": "d3cf2bca",
   "metadata": {},
   "outputs": [
    {
     "name": "stdout",
     "output_type": "stream",
     "text": [
      "['sex', 'embarked', 'class', 'who', 'adult_male', 'deck', 'embark_town', 'alive', 'alone', 'survived', 'pclass', 'sibsp', 'parch']\n"
     ]
    }
   ],
   "source": [
    "#kategorik analizdeki işlemler\n",
    "cat_cols = [col for col in df.columns if str(df[col].dtypes) in [\"category\", \"object\", \"bool\"]]\n",
    "\n",
    "num_but_cat = [col for col in df.columns if df[col].nunique() < 10 and df[col].dtypes in [\"int64\", \"float64\"]]\n",
    "cat_but_car = [col for col in df.columns if df[col].nunique() > 20 and str(df[col].dtypes) in [\"category\", \"object\"]]\n",
    "\n",
    "cat_cols = cat_cols + num_but_cat\n",
    "cat_cols = [col for col in cat_cols if col not in cat_but_car]\n",
    "\n",
    "print(cat_cols)"
   ]
  },
  {
   "cell_type": "code",
   "execution_count": 4,
   "id": "bd829c88",
   "metadata": {},
   "outputs": [
    {
     "name": "stdout",
     "output_type": "stream",
     "text": [
      "['survived', 'pclass', 'age', 'sibsp', 'parch', 'fare']\n"
     ]
    }
   ],
   "source": [
    "#SAYISAL DEĞİŞKEN ANALİZİ\n",
    "#bazı değişkenler int float tipinde olsa da sayısal değişken sınııfında değildir.\n",
    "num_cols = [col for col in df.columns\n",
    "           if df[col].dtypes in [\"int64\", \"float64\"]]\n",
    "print(num_cols) #sayısal değişkenleri seçtik."
   ]
  },
  {
   "cell_type": "code",
   "execution_count": 5,
   "id": "173123cf",
   "metadata": {},
   "outputs": [
    {
     "name": "stdout",
     "output_type": "stream",
     "text": [
      "['age', 'fare']\n"
     ]
    }
   ],
   "source": [
    "#sayısal değişkenler kategorik mi\n",
    "num_cols = [col for col in num_cols\n",
    "           if col not in cat_cols ] #num_cols da gez cat_cols da yoksa seç\n",
    "print(num_cols)"
   ]
  },
  {
   "cell_type": "code",
   "execution_count": 6,
   "id": "49220a29",
   "metadata": {},
   "outputs": [
    {
     "name": "stdout",
     "output_type": "stream",
     "text": [
      "count    714.000000\n",
      "mean      29.699118\n",
      "std       14.526497\n",
      "min        0.420000\n",
      "5%         4.000000\n",
      "10%       14.000000\n",
      "20%       19.000000\n",
      "30%       22.000000\n",
      "40%       25.000000\n",
      "50%       28.000000\n",
      "60%       31.800000\n",
      "70%       36.000000\n",
      "80%       41.000000\n",
      "90%       50.000000\n",
      "95%       56.000000\n",
      "99%       65.870000\n",
      "max       80.000000\n",
      "Name: age, dtype: float64\n"
     ]
    }
   ],
   "source": [
    "def num_summary(dataframe, numerical_col):\n",
    "    quantiles = [0.05, 0.10, 0.20, 0.30, 0.40, 0.50, 0.60, 0.70, 0.80, 0.90, 0.95, 0.99]\n",
    "    print(dataframe[numerical_col].describe(quantiles).T)\n",
    "    \n",
    "num_summary(df, \"age\") #çalışıyor."
   ]
  },
  {
   "cell_type": "code",
   "execution_count": 7,
   "id": "df44973d",
   "metadata": {},
   "outputs": [
    {
     "name": "stdout",
     "output_type": "stream",
     "text": [
      "count    714.000000\n",
      "mean      29.699118\n",
      "std       14.526497\n",
      "min        0.420000\n",
      "5%         4.000000\n",
      "10%       14.000000\n",
      "20%       19.000000\n",
      "30%       22.000000\n",
      "40%       25.000000\n",
      "50%       28.000000\n",
      "60%       31.800000\n",
      "70%       36.000000\n",
      "80%       41.000000\n",
      "90%       50.000000\n",
      "95%       56.000000\n",
      "99%       65.870000\n",
      "max       80.000000\n",
      "Name: age, dtype: float64\n",
      "count    891.000000\n",
      "mean      32.204208\n",
      "std       49.693429\n",
      "min        0.000000\n",
      "5%         7.225000\n",
      "10%        7.550000\n",
      "20%        7.854200\n",
      "30%        8.050000\n",
      "40%       10.500000\n",
      "50%       14.454200\n",
      "60%       21.679200\n",
      "70%       27.000000\n",
      "80%       39.687500\n",
      "90%       77.958300\n",
      "95%      112.079150\n",
      "99%      249.006220\n",
      "max      512.329200\n",
      "Name: fare, dtype: float64\n"
     ]
    }
   ],
   "source": [
    "#tüm sayısal değişkenleri teker teker yazamıyacağımızdan ötürü şöyle bir döngüye alıp yazdırabiliriz.\n",
    "for col in num_cols:\n",
    "    num_summary(df, col)"
   ]
  },
  {
   "cell_type": "code",
   "execution_count": 8,
   "id": "c82d2345",
   "metadata": {},
   "outputs": [
    {
     "name": "stdout",
     "output_type": "stream",
     "text": [
      "count    714.000000\n",
      "mean      29.699118\n",
      "std       14.526497\n",
      "min        0.420000\n",
      "5%         4.000000\n",
      "10%       14.000000\n",
      "20%       19.000000\n",
      "30%       22.000000\n",
      "40%       25.000000\n",
      "50%       28.000000\n",
      "60%       31.800000\n",
      "70%       36.000000\n",
      "80%       41.000000\n",
      "90%       50.000000\n",
      "95%       56.000000\n",
      "99%       65.870000\n",
      "max       80.000000\n",
      "Name: age, dtype: float64\n"
     ]
    },
    {
     "data": {
      "image/png": "[encoded data removed]",
      "text/plain": [
       "<Figure size 640x480 with 1 Axes>"
      ]
     },
     "metadata": {},
     "output_type": "display_data"
    },
    {
     "name": "stdout",
     "output_type": "stream",
     "text": [
      "count    891.000000\n",
      "mean      32.204208\n",
      "std       49.693429\n",
      "min        0.000000\n",
      "5%         7.225000\n",
      "10%        7.550000\n",
      "20%        7.854200\n",
      "30%        8.050000\n",
      "40%       10.500000\n",
      "50%       14.454200\n",
      "60%       21.679200\n",
      "70%       27.000000\n",
      "80%       39.687500\n",
      "90%       77.958300\n",
      "95%      112.079150\n",
      "99%      249.006220\n",
      "max      512.329200\n",
      "Name: fare, dtype: float64\n"
     ]
    },
    {
     "data": {
      "image/png": "[encoded data removed]",
      "text/plain": [
       "<Figure size 640x480 with 1 Axes>"
      ]
     },
     "metadata": {},
     "output_type": "display_data"
    }
   ],
   "source": [
    "#grafik özellik ekliyelim\n",
    "def num_summary(dataframe, numerical_col, plot=False):\n",
    "    quantiles = [0.05, 0.10, 0.20, 0.30, 0.40, 0.50, 0.60, 0.70, 0.80, 0.90, 0.95, 0.99]\n",
    "    print(dataframe[numerical_col].describe(quantiles).T)\n",
    "\n",
    "    if plot:\n",
    "        dataframe[numerical_col].hist()\n",
    "        plt.xlabel(numerical_col)\n",
    "        plt.title(numerical_col)\n",
    "        plt.show(block=True)\n",
    "\n",
    "\n",
    "for col in num_cols:\n",
    "    num_summary(df, col, plot=True) #tüm sayısal değişkenlerde kullan"
   ]
  },
  {
   "cell_type": "code",
   "execution_count": null,
   "id": "e9bc695a",
   "metadata": {},
   "outputs": [],
   "source": []
  },
  {
   "cell_type": "code",
   "execution_count": null,
   "id": "5492e0c3",
   "metadata": {},
   "outputs": [],
   "source": []
  },
  {
   "cell_type": "code",
   "execution_count": null,
   "id": "fb9203e5",
   "metadata": {},
   "outputs": [],
   "source": []
  }
 ],
 "metadata": {
  "kernelspec": {
   "display_name": "Python 3 (ipykernel)",
   "language": "python",
   "name": "python3"
  },
  "language_info": {
   "codemirror_mode": {
    "name": "ipython",
    "version": 3
   },
   "file_extension": ".py",
   "mimetype": "text/x-python",
   "name": "python",
   "nbconvert_exporter": "python",
   "pygments_lexer": "ipython3",
   "version": "3.9.13"
  }
 },
 "nbformat": 4,
 "nbformat_minor": 5
}
